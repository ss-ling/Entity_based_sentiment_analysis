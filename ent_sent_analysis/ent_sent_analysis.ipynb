{
 "cells": [
  {
   "cell_type": "code",
   "execution_count": 1,
   "metadata": {},
   "outputs": [],
   "source": [
    "import spacy \n",
    "import neuralcoref\n",
    "import re\n",
    "import pandas as pd \n",
    "import string\n",
    "nlp = spacy.load('en_core_web_lg')\n",
    "neuralcoref.add_to_pipe(nlp)\n",
    "\n",
    "import numpy as np\n",
    "from sklearn.metrics import confusion_matrix\n",
    "from sklearn.svm import LinearSVC\n",
    "from sklearn.feature_extraction.text import TfidfVectorizer\n",
    "from sklearn.model_selection import StratifiedKFold\n",
    "from sklearn.metrics import precision_recall_fscore_support\n",
    "\n",
    "import matplotlib.pyplot as plt\n",
    "import seaborn as sns"
   ]
  },
  {
   "cell_type": "code",
   "execution_count": 2,
   "metadata": {},
   "outputs": [],
   "source": [
    "df = pd.read_csv('Entity_sentiment_trainV2.csv', index_col=0)"
   ]
  },
  {
   "cell_type": "code",
   "execution_count": 3,
   "metadata": {},
   "outputs": [],
   "source": [
    "df_test = pd.read_csv('Entity_sentiment_testV2.csv')"
   ]
  },
  {
   "cell_type": "code",
   "execution_count": 4,
   "metadata": {},
   "outputs": [
    {
     "data": {
      "text/html": [
       "<div>\n",
       "<style scoped>\n",
       "    .dataframe tbody tr th:only-of-type {\n",
       "        vertical-align: middle;\n",
       "    }\n",
       "\n",
       "    .dataframe tbody tr th {\n",
       "        vertical-align: top;\n",
       "    }\n",
       "\n",
       "    .dataframe thead th {\n",
       "        text-align: right;\n",
       "    }\n",
       "</style>\n",
       "<table border=\"1\" class=\"dataframe\">\n",
       "  <thead>\n",
       "    <tr style=\"text-align: right;\">\n",
       "      <th></th>\n",
       "      <th>Sentence</th>\n",
       "      <th>Entity</th>\n",
       "      <th>Sentiment</th>\n",
       "    </tr>\n",
       "  </thead>\n",
       "  <tbody>\n",
       "    <tr>\n",
       "      <th>0</th>\n",
       "      <td>The website was very easy to use and my insura...</td>\n",
       "      <td>website</td>\n",
       "      <td>positive</td>\n",
       "    </tr>\n",
       "    <tr>\n",
       "      <th>1</th>\n",
       "      <td>The web sight was easy to understand and I got...</td>\n",
       "      <td>web sight</td>\n",
       "      <td>positive</td>\n",
       "    </tr>\n",
       "    <tr>\n",
       "      <th>2</th>\n",
       "      <td>Having filled in the application on-line I cou...</td>\n",
       "      <td>point</td>\n",
       "      <td>negative</td>\n",
       "    </tr>\n",
       "    <tr>\n",
       "      <th>3</th>\n",
       "      <td>After finding AXA was cheaper than my renewal ...</td>\n",
       "      <td>prices</td>\n",
       "      <td>positive</td>\n",
       "    </tr>\n",
       "    <tr>\n",
       "      <th>4</th>\n",
       "      <td>The quote was a reasonable price compared with...</td>\n",
       "      <td>insurances</td>\n",
       "      <td>positive</td>\n",
       "    </tr>\n",
       "    <tr>\n",
       "      <th>...</th>\n",
       "      <td>...</td>\n",
       "      <td>...</td>\n",
       "      <td>...</td>\n",
       "    </tr>\n",
       "    <tr>\n",
       "      <th>5994</th>\n",
       "      <td>In particular our group have several pre exist...</td>\n",
       "      <td>questions</td>\n",
       "      <td>positive</td>\n",
       "    </tr>\n",
       "    <tr>\n",
       "      <th>5995</th>\n",
       "      <td>The gentleman I spoke to came across as bring ...</td>\n",
       "      <td>gentleman</td>\n",
       "      <td>negative</td>\n",
       "    </tr>\n",
       "    <tr>\n",
       "      <th>5996</th>\n",
       "      <td>car insurance the conversation with the young ...</td>\n",
       "      <td>car insurance</td>\n",
       "      <td>positive</td>\n",
       "    </tr>\n",
       "    <tr>\n",
       "      <th>5997</th>\n",
       "      <td>The AXA website was easy to use and understand...</td>\n",
       "      <td>website</td>\n",
       "      <td>positive</td>\n",
       "    </tr>\n",
       "    <tr>\n",
       "      <th>5998</th>\n",
       "      <td>i will reserve my full judgement until i have ...</td>\n",
       "      <td>claim</td>\n",
       "      <td>negative</td>\n",
       "    </tr>\n",
       "  </tbody>\n",
       "</table>\n",
       "<p>5999 rows × 3 columns</p>\n",
       "</div>"
      ],
      "text/plain": [
       "                                               Sentence         Entity  \\\n",
       "0     The website was very easy to use and my insura...        website   \n",
       "1     The web sight was easy to understand and I got...      web sight   \n",
       "2     Having filled in the application on-line I cou...          point   \n",
       "3     After finding AXA was cheaper than my renewal ...         prices   \n",
       "4     The quote was a reasonable price compared with...     insurances   \n",
       "...                                                 ...            ...   \n",
       "5994  In particular our group have several pre exist...      questions   \n",
       "5995  The gentleman I spoke to came across as bring ...      gentleman   \n",
       "5996  car insurance the conversation with the young ...  car insurance   \n",
       "5997  The AXA website was easy to use and understand...        website   \n",
       "5998  i will reserve my full judgement until i have ...          claim   \n",
       "\n",
       "     Sentiment  \n",
       "0     positive  \n",
       "1     positive  \n",
       "2     negative  \n",
       "3     positive  \n",
       "4     positive  \n",
       "...        ...  \n",
       "5994  positive  \n",
       "5995  negative  \n",
       "5996  positive  \n",
       "5997  positive  \n",
       "5998  negative  \n",
       "\n",
       "[5999 rows x 3 columns]"
      ]
     },
     "execution_count": 4,
     "metadata": {},
     "output_type": "execute_result"
    }
   ],
   "source": [
    "df"
   ]
  },
  {
   "cell_type": "code",
   "execution_count": 5,
   "metadata": {},
   "outputs": [
    {
     "data": {
      "text/html": [
       "<div>\n",
       "<style scoped>\n",
       "    .dataframe tbody tr th:only-of-type {\n",
       "        vertical-align: middle;\n",
       "    }\n",
       "\n",
       "    .dataframe tbody tr th {\n",
       "        vertical-align: top;\n",
       "    }\n",
       "\n",
       "    .dataframe thead th {\n",
       "        text-align: right;\n",
       "    }\n",
       "</style>\n",
       "<table border=\"1\" class=\"dataframe\">\n",
       "  <thead>\n",
       "    <tr style=\"text-align: right;\">\n",
       "      <th></th>\n",
       "      <th>Sentence</th>\n",
       "      <th>Entity</th>\n",
       "    </tr>\n",
       "  </thead>\n",
       "  <tbody>\n",
       "    <tr>\n",
       "      <th>0</th>\n",
       "      <td>I telephoned AXA customer service as we had a ...</td>\n",
       "      <td>staff</td>\n",
       "    </tr>\n",
       "    <tr>\n",
       "      <th>1</th>\n",
       "      <td>Got the quote on line which was very straightf...</td>\n",
       "      <td>axa</td>\n",
       "    </tr>\n",
       "    <tr>\n",
       "      <th>2</th>\n",
       "      <td>Not enough information on insurance details no...</td>\n",
       "      <td>information</td>\n",
       "    </tr>\n",
       "    <tr>\n",
       "      <th>3</th>\n",
       "      <td>It was admittedly at 11pm but they DO claim to...</td>\n",
       "      <td>service</td>\n",
       "    </tr>\n",
       "    <tr>\n",
       "      <th>4</th>\n",
       "      <td>Good servicewith very little hassleeasy to use...</td>\n",
       "      <td>price</td>\n",
       "    </tr>\n",
       "    <tr>\n",
       "      <th>...</th>\n",
       "      <td>...</td>\n",
       "      <td>...</td>\n",
       "    </tr>\n",
       "    <tr>\n",
       "      <th>1285</th>\n",
       "      <td>it is time a policy was tailored for the older...</td>\n",
       "      <td>reward</td>\n",
       "    </tr>\n",
       "    <tr>\n",
       "      <th>1286</th>\n",
       "      <td>then, they just removed the itunes credit rewa...</td>\n",
       "      <td>reward</td>\n",
       "    </tr>\n",
       "    <tr>\n",
       "      <th>1287</th>\n",
       "      <td>poor cheap stunt to save money and remove reward.</td>\n",
       "      <td>reward</td>\n",
       "    </tr>\n",
       "    <tr>\n",
       "      <th>1288</th>\n",
       "      <td>the rewards programme, which used to be quite ...</td>\n",
       "      <td>reward</td>\n",
       "    </tr>\n",
       "    <tr>\n",
       "      <th>1289</th>\n",
       "      <td>ok rewards - but even then, some cannot be use...</td>\n",
       "      <td>reward</td>\n",
       "    </tr>\n",
       "  </tbody>\n",
       "</table>\n",
       "<p>1290 rows × 2 columns</p>\n",
       "</div>"
      ],
      "text/plain": [
       "                                               Sentence       Entity\n",
       "0     I telephoned AXA customer service as we had a ...        staff\n",
       "1     Got the quote on line which was very straightf...          axa\n",
       "2     Not enough information on insurance details no...  information\n",
       "3     It was admittedly at 11pm but they DO claim to...      service\n",
       "4     Good servicewith very little hassleeasy to use...        price\n",
       "...                                                 ...          ...\n",
       "1285  it is time a policy was tailored for the older...       reward\n",
       "1286  then, they just removed the itunes credit rewa...       reward\n",
       "1287  poor cheap stunt to save money and remove reward.       reward\n",
       "1288  the rewards programme, which used to be quite ...       reward\n",
       "1289  ok rewards - but even then, some cannot be use...       reward\n",
       "\n",
       "[1290 rows x 2 columns]"
      ]
     },
     "execution_count": 5,
     "metadata": {},
     "output_type": "execute_result"
    }
   ],
   "source": [
    "df_test"
   ]
  },
  {
   "cell_type": "code",
   "execution_count": 6,
   "metadata": {},
   "outputs": [],
   "source": [
    "def preprocess(sent):\n",
    "    pre = re.sub('\\.', '\\. ', sent)\n",
    "    pre = pre.translate(str.maketrans('', '', string.punctuation))\n",
    "    pre = pre.lower()\n",
    "    pre = re.sub('  ', ' ', pre)\n",
    "    pre = re.sub('  ', ' ', pre)\n",
    "    pre = re.sub('  ', ' ', pre)\n",
    "    doc = nlp(pre)\n",
    "    lemmatized_doc = []\n",
    "    for token in doc:\n",
    "        lemmatized_token = token.lemma_\n",
    "        if lemmatized_token == '-PRON-':\n",
    "            lemmatized_doc.append(str(token))\n",
    "        else:\n",
    "            lemmatized_doc.append(lemmatized_token)\n",
    "    lemmatized_string = \" \".join(lemmatized_doc)\n",
    "    return lemmatized_string\n",
    "    \n",
    "    "
   ]
  },
  {
   "cell_type": "code",
   "execution_count": 7,
   "metadata": {},
   "outputs": [],
   "source": [
    "df['preprocessed'] = df['Sentence'].apply(lambda x: preprocess(x))"
   ]
  },
  {
   "cell_type": "code",
   "execution_count": 8,
   "metadata": {},
   "outputs": [],
   "source": [
    "df_test['preprocessed'] = df_test['Sentence'].apply(lambda x: preprocess(x))"
   ]
  },
  {
   "cell_type": "code",
   "execution_count": 9,
   "metadata": {},
   "outputs": [],
   "source": [
    "def resolve_coref_string(sent):\n",
    "    doc = nlp(sent)\n",
    "    resolved = doc._.coref_resolved\n",
    "    return resolved\n",
    "    "
   ]
  },
  {
   "cell_type": "code",
   "execution_count": 10,
   "metadata": {},
   "outputs": [],
   "source": [
    "df['Coreference_resolved'] = df['preprocessed'].apply(lambda x: resolve_coref_string(x))"
   ]
  },
  {
   "cell_type": "code",
   "execution_count": 11,
   "metadata": {},
   "outputs": [],
   "source": [
    "df_test['Coreference_resolved'] = df_test['preprocessed'].apply(lambda x: resolve_coref_string(x))"
   ]
  },
  {
   "cell_type": "code",
   "execution_count": 12,
   "metadata": {},
   "outputs": [],
   "source": [
    "#remove oov words\n",
    "def remove_oov(sent): \n",
    "    doc = nlp(sent)\n",
    "    new_sent = []\n",
    "    for token in doc:\n",
    "        if token.is_oov == True:\n",
    "            None\n",
    "        else:\n",
    "            new_sent.append(str(token))\n",
    "    new_sent_string = \" \".join(new_sent)\n",
    "    return new_sent_string"
   ]
  },
  {
   "cell_type": "code",
   "execution_count": 13,
   "metadata": {},
   "outputs": [],
   "source": [
    "df['No_oov'] = df['Coreference_resolved'].apply(lambda x: remove_oov(x))"
   ]
  },
  {
   "cell_type": "code",
   "execution_count": 14,
   "metadata": {},
   "outputs": [],
   "source": [
    "df_test['No_oov'] = df_test['Coreference_resolved'].apply(lambda x: remove_oov(x))"
   ]
  },
  {
   "cell_type": "code",
   "execution_count": 15,
   "metadata": {},
   "outputs": [],
   "source": [
    "#create labels from preprocessed data\n",
    "sentiments = df['Sentiment'].to_list()\n",
    "sentiment_dict = {'positive': 1, 'negative':0}\n",
    "sentiment_binary = [sentiment_dict.get(item, item) for item in sentiments]\n",
    "labels = np.array(sentiment_binary)"
   ]
  },
  {
   "cell_type": "code",
   "execution_count": 16,
   "metadata": {},
   "outputs": [],
   "source": [
    "#create training sentences and testing sentences from preprocessed data\n",
    "corpus = df['No_oov'].to_list()\n",
    "corpus_test = df_test['No_oov'].to_list()"
   ]
  },
  {
   "cell_type": "code",
   "execution_count": 17,
   "metadata": {},
   "outputs": [],
   "source": [
    "#define number of cross-validation sets\n",
    "kf = StratifiedKFold(n_splits=10)"
   ]
  },
  {
   "cell_type": "code",
   "execution_count": 18,
   "metadata": {},
   "outputs": [],
   "source": [
    "#train model, predict labels for testing set, and create confusion matrix on validation set\n",
    "totalsvm = 0\n",
    "total_svm_conf_matrix = np.zeros((2, 2)) \n",
    "\n",
    "for train_index, validation_index in kf.split(corpus,labels):\n",
    "    X_train = [corpus[i] for i in train_index]\n",
    "    X_validation = [corpus[i] for i in validation_index]\n",
    "    y_train, y_validation = labels[train_index], labels[validation_index]\n",
    "    vectorizer = TfidfVectorizer(min_df=3, sublinear_tf=True, use_idf=True, ngram_range=(1, 2))\n",
    "    train_corpus_tf_idf = vectorizer.fit_transform(X_train)\n",
    "    validation_corpus_tf_idf = vectorizer.transform(X_validation)\n",
    "    test_tfidf = vectorizer.transform(corpus_test)\n",
    "    \n",
    "    model_svm = LinearSVC()\n",
    "    model_svm.fit(train_corpus_tf_idf,y_train)\n",
    "    result_svm = model_svm.predict(validation_corpus_tf_idf)\n",
    "    test = model_svm.predict(test_tfidf)\n",
    "    \n",
    "    total_svm_conf_matrix = total_svm_conf_matrix + confusion_matrix(y_validation, result_svm)\n",
    "    totalsvm = totalsvm+sum(y_validation==result_svm)\n"
   ]
  },
  {
   "cell_type": "code",
   "execution_count": 19,
   "metadata": {},
   "outputs": [],
   "source": [
    "#convert testing labels back into words, add to testing df, and save to csv file\n",
    "sent_dict_rev = {v: k for k, v in sentiment_dict.items()}\n",
    "sentiment_binary_test = [sent_dict_rev.get(item, item) for item in test]\n",
    "df_test['predicted_values'] = sentiment_binary_test\n",
    "\n",
    "df_test.to_csv('Predicted_labels_testing_set.csv')"
   ]
  },
  {
   "cell_type": "code",
   "execution_count": 20,
   "metadata": {},
   "outputs": [
    {
     "data": {
      "text/plain": [
       "array([[1573.,  326.],\n",
       "       [ 285., 3815.]])"
      ]
     },
     "execution_count": 20,
     "metadata": {},
     "output_type": "execute_result"
    }
   ],
   "source": [
    "#display confusion matrix (as numpy array)\n",
    "total_svm_conf_matrix"
   ]
  },
  {
   "cell_type": "code",
   "execution_count": 21,
   "metadata": {},
   "outputs": [
    {
     "name": "stdout",
     "output_type": "stream",
     "text": [
      "Precision:  0.9119419446005422 \n",
      "Recall:  0.9115191986644408 \n",
      "F1-score:  0.9117050988243415\n"
     ]
    }
   ],
   "source": [
    "#display precision, recall and f1-score\n",
    "prec_rec_f1 = precision_recall_fscore_support(y_validation, result_svm, average='weighted')\n",
    "print('Precision: ', prec_rec_f1[0], '\\nRecall: ', prec_rec_f1[1], '\\nF1-score: ', prec_rec_f1[2])\n",
    "\n"
   ]
  },
  {
   "cell_type": "code",
   "execution_count": 22,
   "metadata": {},
   "outputs": [
    {
     "data": {
      "image/png": "[encoded data removed]",
      "text/plain": [
       "<Figure size 720x720 with 2 Axes>"
      ]
     },
     "metadata": {
      "needs_background": "light"
     },
     "output_type": "display_data"
    }
   ],
   "source": [
    "#create and save heatmap for easier visualisation of confusion matrix\n",
    "fig, ax = plt.subplots(figsize=(10,10))\n",
    "sns.heatmap(total_svm_conf_matrix, annot=True, fmt='f',\n",
    "            xticklabels=sentiment_dict.keys(), yticklabels=sentiment_dict.keys())\n",
    "plt.ylabel('Actual')\n",
    "plt.xlabel('Predicted')\n",
    "plt.savefig('confusion_matrix_heatmap.png')\n",
    "plt.show()"
   ]
  }
 ],
 "metadata": {
  "kernelspec": {
   "display_name": "Python 3",
   "language": "python",
   "name": "python3"
  },
  "language_info": {
   "codemirror_mode": {
    "name": "ipython",
    "version": 3
   },
   "file_extension": ".py",
   "mimetype": "text/x-python",
   "name": "python",
   "nbconvert_exporter": "python",
   "pygments_lexer": "ipython3",
   "version": "3.7.0"
  }
 },
 "nbformat": 4,
 "nbformat_minor": 4
}
